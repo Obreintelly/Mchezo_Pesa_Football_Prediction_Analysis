{
  "nbformat": 4,
  "nbformat_minor": 0,
  "metadata": {
    "colab": {
      "name": "Mchezo_Pesa_Football_Results_Prediction.ipynb",
      "provenance": [],
      "authorship_tag": "ABX9TyNg7Amoe6kuARzFp+LBOoIQ",
      "include_colab_link": true
    },
    "kernelspec": {
      "name": "python3",
      "display_name": "Python 3"
    },
    "language_info": {
      "name": "python"
    }
  },
  "cells": [
    {
      "cell_type": "markdown",
      "metadata": {
        "id": "view-in-github",
        "colab_type": "text"
      },
      "source": [
        "<a href=\"https://colab.research.google.com/github/Obreintelly/Mchezo_Pesa_Football_Prediction_Analysis/blob/main/Mchezo_Pesa_Football_Results_Prediction.ipynb\" target=\"_parent\"><img src=\"https://colab.research.google.com/assets/colab-badge.svg\" alt=\"Open In Colab\"/></a>"
      ]
    },
    {
      "cell_type": "markdown",
      "metadata": {
        "id": "xtVcZxeTJQzK"
      },
      "source": [
        "# **1. Specifying the Question**\n",
        "\n",
        "\n",
        "> As a football Analyst recruited by Mchezopesa Ltd, I'm tasked with predicting the results of two football teams based on who's playing at Home, who's playing Away and whether or not it is a friendly match.\n",
        "\n",
        "\n",
        "\n",
        "\n",
        "\n",
        "**2. Defining the Success Metric**\n",
        "\n",
        "\n",
        "> For this analysis, our metric for success would be a model that has a prediction score of atleast 85%.\n",
        "\n",
        "\n",
        "\n",
        "\n",
        "\n",
        "**3. Understanding the Context**\n",
        "\n",
        "\n",
        "\n",
        "\n",
        "**4. Recording the Experimental Design **\n",
        "\n"
      ]
    },
    {
      "cell_type": "code",
      "metadata": {
        "id": "pRPvHiw-JAjl"
      },
      "source": [
        ""
      ],
      "execution_count": null,
      "outputs": []
    }
  ]
}